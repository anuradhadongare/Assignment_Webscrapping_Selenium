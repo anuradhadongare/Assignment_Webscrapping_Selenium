{
 "cells": [
  {
   "cell_type": "code",
   "execution_count": 2,
   "metadata": {},
   "outputs": [
    {
     "name": "stdout",
     "output_type": "stream",
     "text": [
      "error\n"
     ]
    }
   ],
   "source": [
    "from selenium import webdriver\n",
    "from selenium.webdriver.common.by import By\n",
    "from selenium.webdriver.support.ui import WebDriverWait \n",
    "from selenium.webdriver.support import expected_conditions as EC \n",
    "import pandas as pd\n",
    "\n",
    "\n",
    "Path=\"C:\\\\Users\\\\Toshiba\\\\Downloads\\\\chromedriver_win32\\\\chromedriver.exe\"\n",
    "filename=\"Proposal_Records.csv\"\n",
    "\n",
    "\n",
    "driver = webdriver.Chrome(executable_path=Path)\n",
    "\n",
    "driver.get(\"https://publicaccess.wycombe.gov.uk/idoxpa-web/search.do?action=advanced\")\n",
    "\n",
    "try:\n",
    "    Elemstart = driver.find_element_by_id('applicationValidatedStart')\n",
    "    Elemstart.send_keys('01/12/2020')\n",
    "    \n",
    "    Elemend=driver.find_element_by_id('applicationValidatedEnd')\n",
    "    Elemend.send_keys('14/12/2020')\n",
    "    \n",
    "        \n",
    "    element = driver.find_elements_by_class_name('button')[0]\n",
    "    element.click()\n",
    "   \n",
    "    \n",
    "   # print(driver.page_source)\n",
    "    current_url=driver.current_url\n",
    "    driver.get(current_url)\n",
    "    #print(driver.current_url)\n",
    "    #print(driver.page_source)\n",
    "    \n",
    "    #Data frame to store the proposal values  \n",
    "    df = pd.DataFrame(columns = ['No', 'Proposal']) \n",
    "     \n",
    "    iterator=0;\n",
    "    links=[] \n",
    "        \n",
    "    for a in driver.find_elements_by_xpath('.//a'):\n",
    "        l=a.get_attribute('href')\n",
    "        if 'summary'in l:\n",
    "               links.append(l)       \n",
    "    \n",
    "\n",
    "      \n",
    "    for x in range(1, len(links) + 1):\n",
    "        driver.execute_script(\"window.open();\")\n",
    "        driver.switch_to.window(driver.window_handles[x])\n",
    "        driver.get(links[x-1])\n",
    "        \n",
    "        proposal=driver.find_elements_by_xpath('.//tr')\n",
    "        \n",
    "        \n",
    "        totals_rows =driver.find_elements_by_xpath('//tr')\n",
    "        total_rows_length = len(totals_rows)\n",
    "        \n",
    "        \n",
    "        for i in totals_rows:\n",
    "            str=i.text\n",
    "            arr=str.split(' ')\n",
    "            if arr[0] == 'Proposal':\n",
    "                \n",
    "                iterator=iterator+1\n",
    "                prop=str.lstrip('Proposal')\n",
    "                \n",
    "                df = df.append({'No' : iterator, 'Proposal' : prop},ignore_index = True)\n",
    "                         \n",
    "                print(\"done\")           \n",
    "        \n",
    "                      \n",
    "    \n",
    "    df.to_csv(filename,index=False)\n",
    "    #print(df)\n",
    "    driver.close()  \n",
    "   \n",
    "        \n",
    "        \n",
    "        \n",
    "except:\n",
    "    print(\"error\")"
   ]
  },
  {
   "cell_type": "code",
   "execution_count": null,
   "metadata": {},
   "outputs": [],
   "source": []
  }
 ],
 "metadata": {
  "kernelspec": {
   "display_name": "Python 3",
   "language": "python",
   "name": "python3"
  },
  "language_info": {
   "codemirror_mode": {
    "name": "ipython",
    "version": 3
   },
   "file_extension": ".py",
   "mimetype": "text/x-python",
   "name": "python",
   "nbconvert_exporter": "python",
   "pygments_lexer": "ipython3",
   "version": "3.7.0"
  }
 },
 "nbformat": 4,
 "nbformat_minor": 2
}
